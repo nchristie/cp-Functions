{
 "cells": [
  {
   "cell_type": "markdown",
   "metadata": {},
   "source": [
    "# ** Functions **\n"
   ]
  },
  {
   "cell_type": "code",
   "execution_count": null,
   "metadata": {},
   "outputs": [],
   "source": [
    "# run this cell to show a video, use slider to resize it, type Esc-o to hide it\n",
    "from IPython.display import Video, clear_output; from ipywidgets import interactive, IntSlider\n",
    "def _play(resize): display(Video(filename=\"media/ECS780P_Functions_topicSummary.mp4\",data=\"\",width=resize))\n",
    "interactive(_play, resize=IntSlider(min=150, max=900, step=50, value=600, continuous_update=False, readout=False))"
   ]
  },
  {
   "cell_type": "markdown",
   "metadata": {},
   "source": [
    "The scripts we have seen so far were mainly very short. However when programs become longer (above say, 100 lines of code), it becomes important to split them into separate units. This improves readability, makes it easier to debug code and also allows reusing code within the same script or across different applications.\n",
    "\n",
    "Functions are a standard mechanism provided by most programming languages to support modularisation of the code.\n",
    "\n",
    "Functions normally take parameters passed as *arguments*, and may accomplish some action or return some value. We have already seen several examples:"
   ]
  },
  {
   "cell_type": "code",
   "execution_count": null,
   "metadata": {},
   "outputs": [],
   "source": [
    "# sum() is an inbuilt Python function that takes a list of numbers as a parameter and returns the sum of its elements.\n",
    "# Type help(sum) in a cell, for more information about this function.\n",
    "total = sum([1, 3, 5, 7])\n",
    "print(total)\n",
    "\n",
    "# print() takes a string and does something with it (it prints it). It does not\n",
    "# return anything. Functions without return values are sometimes called procedures.\n",
    "print(\"Hello\")"
   ]
  },
  {
   "cell_type": "markdown",
   "metadata": {},
   "source": [
    "## User-defined functions"
   ]
  },
  {
   "cell_type": "markdown",
   "metadata": {},
   "source": [
    "We can define functions to perform tasks in our code. The way to do that is by using the **def** statement:\n",
    "\n",
    "```\n",
    "def functionName(argument1, argument2, ...):\n",
    "    \"\"\" Optional description (DocString) \"\"\"\n",
    "    ...BLOCK of code...\n",
    "    return DATA # optional return statement\n",
    "```\n",
    "    "
   ]
  },
  {
   "cell_type": "markdown",
   "metadata": {},
   "source": [
    "Here is an example of a user-defined function:"
   ]
  },
  {
   "cell_type": "code",
   "execution_count": null,
   "metadata": {},
   "outputs": [],
   "source": [
    "# our own function\n",
    "def mulTable(n):\n",
    "    \"\"\" Print the multiplication table for number n \"\"\"\n",
    "    for i in range(1,11):\n",
    "        print (n*i), \"\\t\", \n",
    "    print() # add newline at the end\n",
    "\n",
    "# program control starts from here\n",
    "mulTable(3) # we \"call\" the function\n",
    "print (\"---\")\n",
    "mulTable(6) # ...and again"
   ]
  },
  {
   "cell_type": "markdown",
   "metadata": {},
   "source": [
    "The above function does not return any value. We can modify it so that it returns the multiplication table instead of printing it:"
   ]
  },
  {
   "cell_type": "code",
   "execution_count": null,
   "metadata": {},
   "outputs": [],
   "source": [
    "# our own function\n",
    "def mulTable(n):\n",
    "    \"\"\" Compute the multiplication table for number 'n' and return it as a list. \"\"\"\n",
    "    resultsList = [n*i for i in range(1,11)]\n",
    "    return resultsList\n",
    "\n",
    "# program control starts from here\n",
    "list1 = mulTable(3)\n",
    "list2 = mulTable(6)\n",
    "s = [(x+y) for (x,y) in zip(list1, list2)]\n",
    "print(\"The sum of the two tables for 3 and 6 is:\", s, \"\\n\")\n",
    "print(\"Reassuringly, this is the same as the multiplication table for number 9:\", mulTable(9))"
   ]
  },
  {
   "cell_type": "markdown",
   "metadata": {},
   "source": [
    "Note that when the interpreter reaches the ```def``` statement it defines the function, but does **not** run it. Control starts from the first line of code outside a ```def``` statement. Note also that we have to define a function *before* we can use it, so we could not put the definition below the rest of the code.\n",
    "\n",
    "Also note that the **docstring** comment (i.e. the text enclosed in **\"\"\"** - triple double-quotes) has a special role in the code; try running the cell below:"
   ]
  },
  {
   "cell_type": "code",
   "execution_count": null,
   "metadata": {},
   "outputs": [],
   "source": [
    "help(mulTable)"
   ]
  },
  {
   "cell_type": "markdown",
   "metadata": {},
   "source": [
    "Here is another example from the book \"Python for Bioinformatics\" by S. Bassi (section 6.1):"
   ]
  },
  {
   "cell_type": "code",
   "execution_count": null,
   "metadata": {},
   "outputs": [],
   "source": [
    "def protcharge(AAseq):\n",
    "        \"\"\" Returns the net charge of a protein sequence. \"\"\"\n",
    "        protseq = AAseq.upper() # make sure it's uppercase\n",
    "        charge = -0.002\n",
    "        AACharge = {'C': -0.45, 'D': -.999, 'E': -.998, 'H': -0.91, 'K': 1,\n",
    "                    'R': 1, 'Y': -0.001}\n",
    "        for aa in protseq:\n",
    "                charge += AACharge.get(aa, 0)\n",
    "        return charge\n",
    "\n",
    "# using the function:\n",
    "seq = \"qtallvvlvllavalqateagpyga\"\n",
    "print(protcharge(seq))\n",
    "print(protcharge(\"EEARGPL\"))"
   ]
  },
  {
   "cell_type": "markdown",
   "metadata": {},
   "source": [
    "A function can take more than one parameter, and return any type of result. Here is an example illustrating that:"
   ]
  },
  {
   "cell_type": "code",
   "execution_count": null,
   "metadata": {},
   "outputs": [],
   "source": [
    "def isMultiple(x, y):\n",
    "    \"\"\" Returns True if 'x' is a multiple of 'y'; returns False otherwise. \"\"\"\n",
    "    if (x%y) == 0:\n",
    "        return True\n",
    "    else:\n",
    "        return False\n",
    "    \n",
    "# let's test it\n",
    "print(isMultiple(9, 3))\n",
    "print(isMultiple(10, 6))\n",
    "if isMultiple(5, 1):\n",
    "    print(\"This is underwhelming...\")"
   ]
  },
  {
   "cell_type": "markdown",
   "metadata": {},
   "source": [
    "In particular, we can use *tuples* or *lists* to have a function return more than one value. Here is an example of that, again from the book \"Python for Bioinformatics\" by S. Bassi (section 6.2):"
   ]
  },
  {
   "cell_type": "code",
   "execution_count": null,
   "metadata": {},
   "outputs": [],
   "source": [
    "def chargeandprop(AAseq):\n",
    "        \"\"\" Returns the net charge of a protein sequence \n",
    "        and the proportion of charged amino acids. \"\"\"\n",
    "        protseq = AAseq.upper() # make sure it's uppercase\n",
    "        charge = -0.002\n",
    "        count = 0\n",
    "        AACharge = {'C': -0.45, 'D': -.999, 'E': -.998, 'H': -0.91, 'K': 1,\n",
    "                    'R': 1, 'Y': -0.001}\n",
    "        for aa in protseq:\n",
    "                charge += AACharge.get(aa, 0)\n",
    "                if aa in AACharge:\n",
    "                    count += 1\n",
    "        proportion = 100.0*count/len(AAseq)\n",
    "        return (charge, proportion) # return a tuple\n",
    "\n",
    "# using the function:\n",
    "seq = \"qtallvvlvllavalqateagpyga\"\n",
    "(c, p) = chargeandprop(seq) # storing the tuple returned by the chargeandprop() function\n",
    "print(\"Charge    : \", c)\n",
    "print(\"Proportion: \", p)"
   ]
  },
  {
   "cell_type": "code",
   "execution_count": null,
   "metadata": {},
   "outputs": [],
   "source": [
    "# run this cell to show a video, use slider to resize it, type Esc-o to hide it\n",
    "from IPython.display import Video, clear_output; from ipywidgets import interactive, IntSlider\n",
    "def _play(resize): display(Video(filename=\"media/ECS780P_Functions_UserDefined.mp4\",data=\"\",width=resize))\n",
    "interactive(_play, resize=IntSlider(min=150, max=900, step=50, value=600, continuous_update=False, readout=False))"
   ]
  },
  {
   "cell_type": "markdown",
   "metadata": {},
   "source": [
    "## Function scope"
   ]
  },
  {
   "cell_type": "markdown",
   "metadata": {},
   "source": [
    "Be aware that a function defines a *scope* for variables. In general, this means that variables that you use within a function are local to that function. This in turn means that you **cannot** access a variable that is local to a function, from outside the function."
   ]
  },
  {
   "cell_type": "code",
   "execution_count": null,
   "metadata": {},
   "outputs": [],
   "source": [
    "# mult=1 # try uncommenting this\n",
    "\n",
    "def test(x):\n",
    "    mult = 2*x\n",
    "    return mult\n",
    "    \n",
    "print(test(3))\n",
    "print(mult)"
   ]
  },
  {
   "cell_type": "markdown",
   "metadata": {},
   "source": [
    "Any variable of the same name outside the function will be overshadowed by new variables defined within the function and will not be affected by operations done within the function. Modifying a *global* variable within a function (such as variable **y** in the first line of the example above) is potentially messy, so Python generally prevents you from doing it. If you do want to access a global variable within a function *for writing*, you have to declare it explicitly using the ```global``` keyword:"
   ]
  },
  {
   "cell_type": "code",
   "execution_count": null,
   "metadata": {},
   "outputs": [],
   "source": [
    "PI = 3.14 # meant to be a constant\n",
    "people = 0 # meant to be a global counter\n",
    "\n",
    "def circperimeter(r):\n",
    "    return 2*PI*r # this works (it's a read)\n",
    "\n",
    "def greet():\n",
    "    # global people\n",
    "    print(\"Hello!\")\n",
    "    people += 1 # this does not work, because we're trying to modify its value;\n",
    "                # need to declare variable as global before this statement\n",
    "    \n",
    "print(circperimeter(1))\n",
    "greet()\n",
    "greet()\n",
    "print(people)"
   ]
  },
  {
   "cell_type": "code",
   "execution_count": null,
   "metadata": {},
   "outputs": [],
   "source": [
    "# run this cell to show a video, use slider to resize it, type Esc-o to hide it\n",
    "from IPython.display import Video, clear_output; from ipywidgets import interactive, IntSlider\n",
    "def _play(resize): display(Video(filename=\"media/ECS780P_Functions_VariableScope.mp4\",data=\"\",width=resize))\n",
    "interactive(_play, resize=IntSlider(min=150, max=900, step=50, value=600, continuous_update=False, readout=False))"
   ]
  },
  {
   "cell_type": "markdown",
   "metadata": {},
   "source": [
    "### Putting it all together ..."
   ]
  },
  {
   "cell_type": "markdown",
   "metadata": {},
   "source": [
    "As a last example, let us try to 'package' the code below (which reads a protein from a FASTA file), into a function.\n",
    "\n",
    "**Note**: You may remember this from the topic **Files**."
   ]
  },
  {
   "cell_type": "code",
   "execution_count": null,
   "metadata": {},
   "outputs": [],
   "source": [
    "FASTA = open(\"P04637.fas\", \"r\")\n",
    "header = FASTA.readline()\n",
    "protein = \"\"\n",
    "for line in FASTA: # couldn't be easier!\n",
    "    protein += line.rstrip()\n",
    "FASTA.close()\n",
    "\n",
    "# Done. This is just pretty-printing.\n",
    "(code, name)= header.split('|')\n",
    "print(\"Accession code:\", code)\n",
    "print(\"\\nName:\", name)\n",
    "print(\"Protein:\", protein)\n",
    "print(\"\\nNumber of residues:\", len(protein))"
   ]
  },
  {
   "cell_type": "code",
   "execution_count": null,
   "metadata": {},
   "outputs": [],
   "source": []
  }
 ],
 "metadata": {
  "kernelspec": {
   "display_name": "Python 3",
   "language": "python",
   "name": "python3"
  },
  "language_info": {
   "codemirror_mode": {
    "name": "ipython",
    "version": 3
   },
   "file_extension": ".py",
   "mimetype": "text/x-python",
   "name": "python",
   "nbconvert_exporter": "python",
   "pygments_lexer": "ipython3",
   "version": "3.6.8"
  }
 },
 "nbformat": 4,
 "nbformat_minor": 1
}
